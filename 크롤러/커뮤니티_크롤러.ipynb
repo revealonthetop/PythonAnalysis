{
 "cells": [
  {
   "cell_type": "markdown",
   "id": "b594462f-c463-4624-8e6b-d3e1bcf57f59",
   "metadata": {},
   "source": [
    "# 필요한 크롤러 만들기 [년 :월: 글 개수] "
   ]
  },
  {
   "cell_type": "code",
   "execution_count": 1,
   "id": "588928da-d1da-404f-9910-5520e274c0a8",
   "metadata": {},
   "outputs": [],
   "source": [
    "import requests\n",
    "import re\n",
    "from bs4 import BeautifulSoup"
   ]
  },
  {
   "cell_type": "code",
   "execution_count": 2,
   "id": "41062a31-45de-4b7d-bad4-bc90909944d9",
   "metadata": {},
   "outputs": [
    {
     "name": "stdin",
     "output_type": "stream",
     "text": [
      "검색할 내용 비트코인\n"
     ]
    }
   ],
   "source": [
    "검색어 = input(\"검색할 내용\")\n",
    "\n",
    "# 이용자 정보 보내기 <Response [403]> 나올 경우 헤더값을 설정해서 보내 주어야 동작.\n",
    "\n",
    "url = f\"?_filter=search&search_target=title_content&search_keyword={검색어}&page={1}\"\n",
    "webpage1 = requests.get(url, headers={'User-Agent': 'Mozilla/5.0'})\n",
    "soup1 = BeautifulSoup(webpage1.content, 'html.parser')\n",
    "\n",
    "#url2 =f\"https://www.dogdrip.net/userdog?_filter=search&search_target=title_content&search_keyword={검색어}&page={j}\"\n",
    "# webpage2 = requests.get(url2,headers={'User-Agent': 'Mozilla/5.0'} )\n",
    "# soup2 = BeautifulSoup(webpage2.content, 'html.parser')"
   ]
  },
  {
   "cell_type": "code",
   "execution_count": 7,
   "id": "82bbade3-dff9-4dc2-b4aa-11e2319824ca",
   "metadata": {},
   "outputs": [],
   "source": [
    "# 검색어 일자 뽑고 리스트에 저장.\n",
    "#print(soup1.select(\".time\")[1].get_text())\n",
    "\n",
    "# CSS 선택자 이용하여 리스트 삽입.\n",
    "time_elements= soup1.select('tr td.time')\n",
    "i,j=0,0\n",
    "dates_list=[]\n",
    "\n",
    "for _ in range(1,50):\n",
    "    i +=1\n",
    "    url1 = f\"https://www.net/dogdrip?_filter=search&search_target=title_content&search_keyword={검색어}&page=2\"\n",
    "    webpage1 = requests.get(url1, headers={'User-Agent': 'Mozilla/5.0'})\n",
    "    soup1 = BeautifulSoup(webpage1.content, 'html.parser')\n",
    "    for element in time_elements:\n",
    "        dates_list.append(element.text)\n",
    "        \n",
    "\n",
    "\n",
    "for _ in range(1,50):\n",
    "    j += 1\n",
    "    url2 =f\"https://www.net/userdog?_filter=search&search_target=title_content&search_keyword={검색어}&page={j}\"\n",
    "    webpage2 = requests.get(url2,headers={'User-Agent': 'Mozilla/5.0'} )\n",
    "    soup2 = BeautifulSoup(webpage2.content, 'html.parser')\n",
    "    for element in time_elements:\n",
    "        dates_list.append(element.text)\n"
   ]
  },
  {
   "cell_type": "code",
   "execution_count": null,
   "id": "92955ce2-92d6-4f3b-ab80-9a18ba5d6f71",
   "metadata": {},
   "outputs": [],
   "source": [
    "from collections import defaultdict\n",
    "\n",
    "# 연도별, 월별로 개수를 세는 딕셔너리 생성\n",
    "year_month_counts = defaultdict(lambda: defaultdict(int))\n",
    "\n",
    "# dates_list 안에 스페이스가 들어간 항목 삭제\n",
    "dates_list = [date for date in dates_list if ' ' not in date]\n",
    "\n",
    "# 각 날짜의 연도와 월을 추출하여 개수 세기\n",
    "for date in dates_list:\n",
    "    year, month, _ = date.split('.')\n",
    "    year_month_counts[year][month] += 1\n",
    "\n",
    "# 결과 출력\n",
    "for year, month_counts in year_month_counts.items():\n",
    "    print(f'{year}년:')\n",
    "    for month, count in month_counts.items():\n",
    "        print(f'  {month}월: {count}개')\n"
   ]
  },
  {
   "cell_type": "code",
   "execution_count": 6,
   "id": "2b022c6b-2b0a-4608-b835-dac15bbccebc",
   "metadata": {
    "scrolled": true
   },
   "outputs": [
    {
     "data": {
      "text/plain": [
       "['7 일 전']"
      ]
     },
     "execution_count": 6,
     "metadata": {},
     "output_type": "execute_result"
    }
   ],
   "source": [
    "date.split('.')"
   ]
  },
  {
   "cell_type": "code",
   "execution_count": 10,
   "id": "1b2dc983-326d-47a2-93d0-ba1cace033f9",
   "metadata": {},
   "outputs": [],
   "source": [
    "# text 파일로 내보내기.\n",
    "with open('comunity_howmany_bitcoin.txt', 'w') as f:\n",
    "    for item in dates_list:\n",
    "        f.write(f'{item}\\n')"
   ]
  },
  {
   "cell_type": "code",
   "execution_count": null,
   "id": "8b61f77d-5454-4d39-8793-751496985d7c",
   "metadata": {},
   "outputs": [],
   "source": []
  }
 ],
 "metadata": {
  "kernelspec": {
   "display_name": "Python 3 (ipykernel)",
   "language": "python",
   "name": "python3"
  },
  "language_info": {
   "codemirror_mode": {
    "name": "ipython",
    "version": 3
   },
   "file_extension": ".py",
   "mimetype": "text/x-python",
   "name": "python",
   "nbconvert_exporter": "python",
   "pygments_lexer": "ipython3",
   "version": "3.11.7"
  }
 },
 "nbformat": 4,
 "nbformat_minor": 5
}
